{
 "cells": [
  {
   "cell_type": "code",
   "execution_count": 1,
   "metadata": {},
   "outputs": [],
   "source": [
    "from selenium import webdriver\n",
    "from selenium.webdriver.common.keys import Keys\n",
    "from selenium.webdriver.common.by import By\n",
    "import re\n",
    "import time \n",
    "import pandas as pd\n",
    "import random"
   ]
  },
  {
   "cell_type": "code",
   "execution_count": 2,
   "metadata": {},
   "outputs": [],
   "source": [
    "driver = webdriver.Chrome(executable_path=\"./Driver/chromedriver.exe\")\n"
   ]
  },
  {
   "cell_type": "code",
   "execution_count": null,
   "metadata": {},
   "outputs": [],
   "source": []
  },
  {
   "cell_type": "code",
   "execution_count": 5,
   "metadata": {},
   "outputs": [
    {
     "data": {
      "text/plain": [
       "('314,900',\n",
       " '$1,847 per month',\n",
       " '3',\n",
       " '2.5',\n",
       " '1,626',\n",
       " '6626 Citrus Creek Ln',\n",
       " 'TAMPA, FL 33625')"
      ]
     },
     "execution_count": 5,
     "metadata": {},
     "output_type": "execute_result"
    }
   ],
   "source": [
    "#purchase price of property\n",
    "driver.get(\"https://www.redfin.com/FL/Tampa/6626-Citrus-Creek-Ln-33625/home/142947944\")\n",
    "time.sleep(2)\n",
    "\n",
    "price = driver.find_element_by_xpath(\"//div[contains(@class, 'price-section')]/div/div/span[2]\").text\n",
    "monthly_payment = driver.find_element_by_xpath(\"//div[contains(@class, 'CalculatorSummary')]/div/p\").text\n",
    "bedrooms = driver.find_element_by_xpath(\"//div[contains(@class, 'beds-section')]/div\").text\n",
    "baths = driver.find_element_by_xpath(\"//div[contains(@class, 'baths-section')]/div\").text\n",
    "square_feet = driver.find_element_by_xpath(\"//div[contains(@class, 'sqft-section')]/span\").text\n",
    "street_address = driver.find_element_by_xpath(\"//div[contains(@class, 'street-address')]/span\").text\n",
    "city = driver.find_element_by_xpath(\"//h1[contains(@class, 'homeAddress-variant')]/div[2]\").text\n",
    "price, monthly_payment, bedrooms, baths, square_feet, street_address, city"
   ]
  },
  {
   "cell_type": "code",
   "execution_count": 6,
   "metadata": {},
   "outputs": [],
   "source": [
    "driver.quit()\n"
   ]
  },
  {
   "cell_type": "code",
   "execution_count": null,
   "metadata": {},
   "outputs": [],
   "source": [
    "df = pd.DataFrame({\n",
    "     \"price\": prices, \n",
    "     \"monthy_payment\": monthly_payments\n",
    "     \"bedrooms\" : bedrooms\n",
    "     \"baths\"\n",
    "})\n",
    "df\n",
    "\n",
    "#price, monthly_payment, city, address, number of bedrooms, number of bathroom\n",
    "    "
   ]
  },
  {
   "cell_type": "code",
   "execution_count": null,
   "metadata": {},
   "outputs": [],
   "source": []
  },
  {
   "cell_type": "code",
   "execution_count": null,
   "metadata": {},
   "outputs": [],
   "source": [
    "\n",
    "        "
   ]
  },
  {
   "cell_type": "code",
   "execution_count": null,
   "metadata": {},
   "outputs": [],
   "source": []
  }
 ],
 "metadata": {
  "kernelspec": {
   "display_name": "Python 3",
   "language": "python",
   "name": "python3"
  },
  "language_info": {
   "codemirror_mode": {
    "name": "ipython",
    "version": 3
   },
   "file_extension": ".py",
   "mimetype": "text/x-python",
   "name": "python",
   "nbconvert_exporter": "python",
   "pygments_lexer": "ipython3",
   "version": "3.8.5"
  }
 },
 "nbformat": 4,
 "nbformat_minor": 4
}
