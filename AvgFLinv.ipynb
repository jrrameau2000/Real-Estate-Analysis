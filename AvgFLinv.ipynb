{
 "cells": [
  {
   "cell_type": "code",
   "execution_count": 27,
   "id": "documented-daughter",
   "metadata": {},
   "outputs": [],
   "source": [
    "import requests\n",
    "import pandas as pd"
   ]
  },
  {
   "cell_type": "code",
   "execution_count": 28,
   "id": "social-malpractice",
   "metadata": {},
   "outputs": [],
   "source": [
    "mia_lt_rent = requests.get(\"https://api.mashvisor.com/v1.1/client/trends/summary/FL/Miami\", headers={'x-api-key':'7b9581e3-5b45-4fbc-8f59-d3379db49449'})\n",
    "mia_rent = mia_lt_rent.json()"
   ]
  },
  {
   "cell_type": "code",
   "execution_count": 29,
   "id": "intimate-creator",
   "metadata": {},
   "outputs": [
    {
     "data": {
      "text/plain": [
       "{'status': 'success',\n",
       " 'content': {'active_neighborhoods': 30,\n",
       "  'investment_properties': 2948,\n",
       "  'airbnb_listings': 1019,\n",
       "  'traditional_listings': 2221,\n",
       "  'avg_property_price': 642019.6815,\n",
       "  'avg_price_per_sqft': 725.05008745,\n",
       "  'avg_days_on_market': 180.7789,\n",
       "  'avg_occupancy': 55.4416,\n",
       "  'avg_nightly_price': 262.8546,\n",
       "  'avg_airbnb_ROI': 2.3832560152741813,\n",
       "  'avg_airbnb_rental': 3462.763116877517,\n",
       "  'avg_traditional_ROI': 2.174303999976996,\n",
       "  'avg_traditional_rental': 2556.6823163857043}}"
      ]
     },
     "execution_count": 29,
     "metadata": {},
     "output_type": "execute_result"
    }
   ],
   "source": [
    "mia_rent"
   ]
  },
  {
   "cell_type": "code",
   "execution_count": 30,
   "id": "injured-potential",
   "metadata": {},
   "outputs": [
    {
     "data": {
      "text/plain": [
       "dict_keys(['status', 'content'])"
      ]
     },
     "execution_count": 30,
     "metadata": {},
     "output_type": "execute_result"
    }
   ],
   "source": [
    "mia_rent.keys()"
   ]
  },
  {
   "cell_type": "code",
   "execution_count": 99,
   "id": "independent-joseph",
   "metadata": {},
   "outputs": [
    {
     "data": {
      "text/html": [
       "<div>\n",
       "<style scoped>\n",
       "    .dataframe tbody tr th:only-of-type {\n",
       "        vertical-align: middle;\n",
       "    }\n",
       "\n",
       "    .dataframe tbody tr th {\n",
       "        vertical-align: top;\n",
       "    }\n",
       "\n",
       "    .dataframe thead th {\n",
       "        text-align: right;\n",
       "    }\n",
       "</style>\n",
       "<table border=\"1\" class=\"dataframe\">\n",
       "  <thead>\n",
       "    <tr style=\"text-align: right;\">\n",
       "      <th></th>\n",
       "      <th>0</th>\n",
       "    </tr>\n",
       "  </thead>\n",
       "  <tbody>\n",
       "    <tr>\n",
       "      <th>avg_property_price</th>\n",
       "      <td>642019.681500</td>\n",
       "    </tr>\n",
       "    <tr>\n",
       "      <th>avg_price_per_sqft</th>\n",
       "      <td>725.050087</td>\n",
       "    </tr>\n",
       "    <tr>\n",
       "      <th>avg_days_on_market</th>\n",
       "      <td>180.778900</td>\n",
       "    </tr>\n",
       "    <tr>\n",
       "      <th>avg_occupancy</th>\n",
       "      <td>55.441600</td>\n",
       "    </tr>\n",
       "    <tr>\n",
       "      <th>avg_nightly_price</th>\n",
       "      <td>262.854600</td>\n",
       "    </tr>\n",
       "    <tr>\n",
       "      <th>avg_airbnb_ROI</th>\n",
       "      <td>2.383256</td>\n",
       "    </tr>\n",
       "    <tr>\n",
       "      <th>avg_airbnb_rental</th>\n",
       "      <td>3462.763117</td>\n",
       "    </tr>\n",
       "    <tr>\n",
       "      <th>avg_traditional_ROI</th>\n",
       "      <td>2.174304</td>\n",
       "    </tr>\n",
       "    <tr>\n",
       "      <th>avg_traditional_rental</th>\n",
       "      <td>2556.682316</td>\n",
       "    </tr>\n",
       "  </tbody>\n",
       "</table>\n",
       "</div>"
      ],
      "text/plain": [
       "                                    0\n",
       "avg_property_price      642019.681500\n",
       "avg_price_per_sqft         725.050087\n",
       "avg_days_on_market         180.778900\n",
       "avg_occupancy               55.441600\n",
       "avg_nightly_price          262.854600\n",
       "avg_airbnb_ROI               2.383256\n",
       "avg_airbnb_rental         3462.763117\n",
       "avg_traditional_ROI          2.174304\n",
       "avg_traditional_rental    2556.682316"
      ]
     },
     "execution_count": 99,
     "metadata": {},
     "output_type": "execute_result"
    }
   ],
   "source": [
    "mia_rentdf = pd.DataFrame.from_dict(mia_rent['content'], orient=\"index\")\n",
    "mia_rentdf = pd.DataFrame.from_dict(mia_rent['content'], orient=\"index\")\n",
    "miafl_rentdf = mia_rentdf.loc['avg_property_price':'avg_traditional_rental'] \n",
    "miafl_rentdf"
   ]
  },
  {
   "cell_type": "code",
   "execution_count": null,
   "id": "acting-thermal",
   "metadata": {},
   "outputs": [],
   "source": []
  },
  {
   "cell_type": "code",
   "execution_count": 77,
   "id": "cheap-pressure",
   "metadata": {},
   "outputs": [
    {
     "data": {
      "text/plain": [
       "{'status': 'success',\n",
       " 'content': {'active_neighborhoods': 117,\n",
       "  'investment_properties': 608,\n",
       "  'airbnb_listings': 555,\n",
       "  'traditional_listings': 564,\n",
       "  'avg_property_price': 354780.778,\n",
       "  'avg_price_per_sqft': 204.6232226,\n",
       "  'avg_days_on_market': 77.2935,\n",
       "  'avg_occupancy': 54.5183,\n",
       "  'avg_nightly_price': 106.7574,\n",
       "  'avg_airbnb_ROI': 3.492256820438854,\n",
       "  'avg_airbnb_rental': 1682.5576516249048,\n",
       "  'avg_traditional_ROI': 6.780094538340155,\n",
       "  'avg_traditional_rental': 1617.2640364596089}}"
      ]
     },
     "execution_count": 77,
     "metadata": {},
     "output_type": "execute_result"
    }
   ],
   "source": [
    "orl_lt_rent = requests.get(\"https://api.mashvisor.com/v1.1/client/trends/summary/FL/Orlando\", headers={'x-api-key':'7b9581e3-5b45-4fbc-8f59-d3379db49449'})\n",
    "orl_rent = orl_lt_rent.json()\n",
    "orl_rent"
   ]
  },
  {
   "cell_type": "code",
   "execution_count": 86,
   "id": "random-copper",
   "metadata": {},
   "outputs": [
    {
     "data": {
      "text/html": [
       "<div>\n",
       "<style scoped>\n",
       "    .dataframe tbody tr th:only-of-type {\n",
       "        vertical-align: middle;\n",
       "    }\n",
       "\n",
       "    .dataframe tbody tr th {\n",
       "        vertical-align: top;\n",
       "    }\n",
       "\n",
       "    .dataframe thead th {\n",
       "        text-align: right;\n",
       "    }\n",
       "</style>\n",
       "<table border=\"1\" class=\"dataframe\">\n",
       "  <thead>\n",
       "    <tr style=\"text-align: right;\">\n",
       "      <th></th>\n",
       "      <th>0</th>\n",
       "    </tr>\n",
       "  </thead>\n",
       "  <tbody>\n",
       "    <tr>\n",
       "      <th>avg_property_price</th>\n",
       "      <td>354780.778000</td>\n",
       "    </tr>\n",
       "    <tr>\n",
       "      <th>avg_price_per_sqft</th>\n",
       "      <td>204.623223</td>\n",
       "    </tr>\n",
       "    <tr>\n",
       "      <th>avg_days_on_market</th>\n",
       "      <td>77.293500</td>\n",
       "    </tr>\n",
       "    <tr>\n",
       "      <th>avg_occupancy</th>\n",
       "      <td>54.518300</td>\n",
       "    </tr>\n",
       "    <tr>\n",
       "      <th>avg_nightly_price</th>\n",
       "      <td>106.757400</td>\n",
       "    </tr>\n",
       "    <tr>\n",
       "      <th>avg_airbnb_ROI</th>\n",
       "      <td>3.492257</td>\n",
       "    </tr>\n",
       "    <tr>\n",
       "      <th>avg_airbnb_rental</th>\n",
       "      <td>1682.557652</td>\n",
       "    </tr>\n",
       "    <tr>\n",
       "      <th>avg_traditional_ROI</th>\n",
       "      <td>6.780095</td>\n",
       "    </tr>\n",
       "    <tr>\n",
       "      <th>avg_traditional_rental</th>\n",
       "      <td>1617.264036</td>\n",
       "    </tr>\n",
       "  </tbody>\n",
       "</table>\n",
       "</div>"
      ],
      "text/plain": [
       "                                    0\n",
       "avg_property_price      354780.778000\n",
       "avg_price_per_sqft         204.623223\n",
       "avg_days_on_market          77.293500\n",
       "avg_occupancy               54.518300\n",
       "avg_nightly_price          106.757400\n",
       "avg_airbnb_ROI               3.492257\n",
       "avg_airbnb_rental         1682.557652\n",
       "avg_traditional_ROI          6.780095\n",
       "avg_traditional_rental    1617.264036"
      ]
     },
     "execution_count": 86,
     "metadata": {},
     "output_type": "execute_result"
    }
   ],
   "source": [
    "orl_rentdf = pd.DataFrame.from_dict(orl_rent['content'], orient=\"index\")\n",
    "orlfl_rentdf = orl_rentdf.loc['avg_property_price':'avg_traditional_rental'] \n",
    "orlfl_rentdf"
   ]
  },
  {
   "cell_type": "code",
   "execution_count": 65,
   "id": "described-easter",
   "metadata": {
    "collapsed": true,
    "jupyter": {
     "outputs_hidden": true
    }
   },
   "outputs": [
    {
     "data": {
      "text/plain": [
       "{'status': 'success',\n",
       " 'content': {'active_neighborhoods': 74,\n",
       "  'investment_properties': 461,\n",
       "  'airbnb_listings': 768,\n",
       "  'traditional_listings': 577,\n",
       "  'avg_property_price': 503460.1627,\n",
       "  'avg_price_per_sqft': 255.65557977,\n",
       "  'avg_days_on_market': 54.0699,\n",
       "  'avg_occupancy': 51.6709,\n",
       "  'avg_nightly_price': 150.7553,\n",
       "  'avg_airbnb_ROI': 4.377297280511197,\n",
       "  'avg_airbnb_rental': 2464.507268687766,\n",
       "  'avg_traditional_ROI': 5.946669475347403,\n",
       "  'avg_traditional_rental': 1991.330805089352}}"
      ]
     },
     "execution_count": 65,
     "metadata": {},
     "output_type": "execute_result"
    }
   ],
   "source": [
    "tpa_lt_rent = requests.get(\"https://api.mashvisor.com/v1.1/client/trends/summary/FL/Tampa\", headers={'x-api-key':'7b9581e3-5b45-4fbc-8f59-d3379db49449'})\n",
    "tpa_rent = tpa_lt_rent.json()\n",
    "tpa_rent"
   ]
  },
  {
   "cell_type": "code",
   "execution_count": 97,
   "id": "pretty-simon",
   "metadata": {},
   "outputs": [
    {
     "data": {
      "text/html": [
       "<div>\n",
       "<style scoped>\n",
       "    .dataframe tbody tr th:only-of-type {\n",
       "        vertical-align: middle;\n",
       "    }\n",
       "\n",
       "    .dataframe tbody tr th {\n",
       "        vertical-align: top;\n",
       "    }\n",
       "\n",
       "    .dataframe thead th {\n",
       "        text-align: right;\n",
       "    }\n",
       "</style>\n",
       "<table border=\"1\" class=\"dataframe\">\n",
       "  <thead>\n",
       "    <tr style=\"text-align: right;\">\n",
       "      <th></th>\n",
       "      <th>0</th>\n",
       "    </tr>\n",
       "  </thead>\n",
       "  <tbody>\n",
       "    <tr>\n",
       "      <th>avg_property_price</th>\n",
       "      <td>503460.162700</td>\n",
       "    </tr>\n",
       "    <tr>\n",
       "      <th>avg_price_per_sqft</th>\n",
       "      <td>255.655580</td>\n",
       "    </tr>\n",
       "    <tr>\n",
       "      <th>avg_days_on_market</th>\n",
       "      <td>54.069900</td>\n",
       "    </tr>\n",
       "    <tr>\n",
       "      <th>avg_occupancy</th>\n",
       "      <td>51.670900</td>\n",
       "    </tr>\n",
       "    <tr>\n",
       "      <th>avg_nightly_price</th>\n",
       "      <td>150.755300</td>\n",
       "    </tr>\n",
       "    <tr>\n",
       "      <th>avg_airbnb_ROI</th>\n",
       "      <td>4.377297</td>\n",
       "    </tr>\n",
       "    <tr>\n",
       "      <th>avg_airbnb_rental</th>\n",
       "      <td>2464.507269</td>\n",
       "    </tr>\n",
       "    <tr>\n",
       "      <th>avg_traditional_ROI</th>\n",
       "      <td>5.946669</td>\n",
       "    </tr>\n",
       "    <tr>\n",
       "      <th>avg_traditional_rental</th>\n",
       "      <td>1991.330805</td>\n",
       "    </tr>\n",
       "  </tbody>\n",
       "</table>\n",
       "</div>"
      ],
      "text/plain": [
       "                                    0\n",
       "avg_property_price      503460.162700\n",
       "avg_price_per_sqft         255.655580\n",
       "avg_days_on_market          54.069900\n",
       "avg_occupancy               51.670900\n",
       "avg_nightly_price          150.755300\n",
       "avg_airbnb_ROI               4.377297\n",
       "avg_airbnb_rental         2464.507269\n",
       "avg_traditional_ROI          5.946669\n",
       "avg_traditional_rental    1991.330805"
      ]
     },
     "execution_count": 97,
     "metadata": {},
     "output_type": "execute_result"
    }
   ],
   "source": [
    "tpa_rentdf = pd.DataFrame.from_dict(tpa_rent['content'], orient=\"index\")\n",
    "tpafl_rentdf = tpa_rentdf.loc['avg_property_price':'avg_traditional_rental'] \n",
    "tpafl_rentdf"
   ]
  },
  {
   "cell_type": "code",
   "execution_count": 91,
   "id": "disturbed-country",
   "metadata": {},
   "outputs": [
    {
     "data": {
      "text/html": [
       "<div>\n",
       "<style scoped>\n",
       "    .dataframe tbody tr th:only-of-type {\n",
       "        vertical-align: middle;\n",
       "    }\n",
       "\n",
       "    .dataframe tbody tr th {\n",
       "        vertical-align: top;\n",
       "    }\n",
       "\n",
       "    .dataframe thead th {\n",
       "        text-align: right;\n",
       "    }\n",
       "</style>\n",
       "<table border=\"1\" class=\"dataframe\">\n",
       "  <thead>\n",
       "    <tr style=\"text-align: right;\">\n",
       "      <th></th>\n",
       "      <th>Tampa Airbnb ROI</th>\n",
       "      <th>Orlando Airbnb ROI</th>\n",
       "      <th>Miami Airbnb ROI</th>\n",
       "    </tr>\n",
       "  </thead>\n",
       "  <tbody>\n",
       "    <tr>\n",
       "      <th>0</th>\n",
       "      <td>4.377297</td>\n",
       "      <td>3.492257</td>\n",
       "      <td>2.383256</td>\n",
       "    </tr>\n",
       "  </tbody>\n",
       "</table>\n",
       "</div>"
      ],
      "text/plain": [
       "   Tampa Airbnb ROI  Orlando Airbnb ROI  Miami Airbnb ROI\n",
       "0          4.377297            3.492257          2.383256"
      ]
     },
     "execution_count": 91,
     "metadata": {},
     "output_type": "execute_result"
    }
   ],
   "source": [
    "fl_airbnb = pd.DataFrame({\"Tampa Airbnb ROI\":tpafl_rentdf.iloc[5],\n",
    "                      \"Orlando Airbnb ROI\": orlfl_rentdf.iloc[5],\n",
    "                      \"Miami Airbnb ROI\": miafl_rentdf.iloc[5]})\n",
    "fl_airbnb"
   ]
  },
  {
   "cell_type": "code",
   "execution_count": 94,
   "id": "indirect-potter",
   "metadata": {},
   "outputs": [
    {
     "data": {
      "text/plain": [
       "<AxesSubplot:>"
      ]
     },
     "execution_count": 94,
     "metadata": {},
     "output_type": "execute_result"
    },
    {
     "data": {
      "image/png": "[encoded data removed]",
      "text/plain": [
       "<Figure size 432x288 with 1 Axes>"
      ]
     },
     "metadata": {
      "needs_background": "light"
     },
     "output_type": "display_data"
    }
   ],
   "source": [
    "fl_airbnb.plot(kind='bar')"
   ]
  },
  {
   "cell_type": "code",
   "execution_count": 92,
   "id": "breeding-saudi",
   "metadata": {},
   "outputs": [
    {
     "data": {
      "text/html": [
       "<div>\n",
       "<style scoped>\n",
       "    .dataframe tbody tr th:only-of-type {\n",
       "        vertical-align: middle;\n",
       "    }\n",
       "\n",
       "    .dataframe tbody tr th {\n",
       "        vertical-align: top;\n",
       "    }\n",
       "\n",
       "    .dataframe thead th {\n",
       "        text-align: right;\n",
       "    }\n",
       "</style>\n",
       "<table border=\"1\" class=\"dataframe\">\n",
       "  <thead>\n",
       "    <tr style=\"text-align: right;\">\n",
       "      <th></th>\n",
       "      <th>Tampa Trad ROI</th>\n",
       "      <th>Orlando Trad ROI</th>\n",
       "      <th>Miami Trad ROI</th>\n",
       "    </tr>\n",
       "  </thead>\n",
       "  <tbody>\n",
       "    <tr>\n",
       "      <th>0</th>\n",
       "      <td>5.946669</td>\n",
       "      <td>6.780095</td>\n",
       "      <td>2.174304</td>\n",
       "    </tr>\n",
       "  </tbody>\n",
       "</table>\n",
       "</div>"
      ],
      "text/plain": [
       "   Tampa Trad ROI  Orlando Trad ROI  Miami Trad ROI\n",
       "0        5.946669          6.780095        2.174304"
      ]
     },
     "execution_count": 92,
     "metadata": {},
     "output_type": "execute_result"
    }
   ],
   "source": [
    "fl_trad =  pd.DataFrame({\"Tampa Trad ROI\":tpafl_rentdf.iloc[7],\n",
    "                      \"Orlando Trad ROI\": orlfl_rentdf.iloc[7],\n",
    "                      \"Miami Trad ROI\": miafl_rentdf.iloc[7]})\n",
    "fl_trad"
   ]
  },
  {
   "cell_type": "code",
   "execution_count": 95,
   "id": "alpha-cross",
   "metadata": {},
   "outputs": [
    {
     "data": {
      "text/plain": [
       "<AxesSubplot:>"
      ]
     },
     "execution_count": 95,
     "metadata": {},
     "output_type": "execute_result"
    },
    {
     "data": {
      "image/png": "[encoded data removed]",
      "text/plain": [
       "<Figure size 432x288 with 1 Axes>"
      ]
     },
     "metadata": {
      "needs_background": "light"
     },
     "output_type": "display_data"
    }
   ],
   "source": [
    "fl_trad.plot(kind='bar')"
   ]
  },
  {
   "cell_type": "code",
   "execution_count": 90,
   "id": "aware-intensity",
   "metadata": {},
   "outputs": [
    {
     "data": {
      "text/html": [
       "<div>\n",
       "<style scoped>\n",
       "    .dataframe tbody tr th:only-of-type {\n",
       "        vertical-align: middle;\n",
       "    }\n",
       "\n",
       "    .dataframe tbody tr th {\n",
       "        vertical-align: top;\n",
       "    }\n",
       "\n",
       "    .dataframe thead th {\n",
       "        text-align: right;\n",
       "    }\n",
       "</style>\n",
       "<table border=\"1\" class=\"dataframe\">\n",
       "  <thead>\n",
       "    <tr style=\"text-align: right;\">\n",
       "      <th></th>\n",
       "      <th>Tampa Cost</th>\n",
       "      <th>Orlando Cost</th>\n",
       "      <th>Miami Cost</th>\n",
       "    </tr>\n",
       "  </thead>\n",
       "  <tbody>\n",
       "    <tr>\n",
       "      <th>0</th>\n",
       "      <td>503460.1627</td>\n",
       "      <td>354780.778</td>\n",
       "      <td>642019.6815</td>\n",
       "    </tr>\n",
       "  </tbody>\n",
       "</table>\n",
       "</div>"
      ],
      "text/plain": [
       "    Tampa Cost  Orlando Cost   Miami Cost\n",
       "0  503460.1627    354780.778  642019.6815"
      ]
     },
     "execution_count": 90,
     "metadata": {},
     "output_type": "execute_result"
    }
   ],
   "source": [
    "fl_prop_price = pd.DataFrame({\"Tampa Cost\":tpafl_rentdf.iloc[0],\n",
    "                      \"Orlando Cost\": orlfl_rentdf.iloc[0],\n",
    "                      \"Miami Cost\": miafl_rentdf.iloc[0]})\n",
    "fl_prop_price"
   ]
  },
  {
   "cell_type": "code",
   "execution_count": 96,
   "id": "impaired-candidate",
   "metadata": {},
   "outputs": [
    {
     "data": {
      "text/plain": [
       "<AxesSubplot:>"
      ]
     },
     "execution_count": 96,
     "metadata": {},
     "output_type": "execute_result"
    },
    {
     "data": {
      "image/png": "[encoded data removed]",
      "text/plain": [
       "<Figure size 432x288 with 1 Axes>"
      ]
     },
     "metadata": {
      "needs_background": "light"
     },
     "output_type": "display_data"
    }
   ],
   "source": [
    "fl_prop_price.plot(kind='bar')"
   ]
  },
  {
   "cell_type": "code",
   "execution_count": null,
   "id": "drawn-practitioner",
   "metadata": {},
   "outputs": [],
   "source": []
  }
 ],
 "metadata": {
  "kernelspec": {
   "display_name": "Python 3",
   "language": "python",
   "name": "python3"
  },
  "language_info": {
   "codemirror_mode": {
    "name": "ipython",
    "version": 3
   },
   "file_extension": ".py",
   "mimetype": "text/x-python",
   "name": "python",
   "nbconvert_exporter": "python",
   "pygments_lexer": "ipython3",
   "version": "3.8.5"
  }
 },
 "nbformat": 4,
 "nbformat_minor": 5
}
