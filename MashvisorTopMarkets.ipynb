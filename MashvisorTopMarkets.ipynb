{
 "cells": [
  {
   "cell_type": "code",
   "execution_count": 7,
   "id": "utility-owner",
   "metadata": {},
   "outputs": [],
   "source": [
    "import requests\n",
    "r_fl = requests.get('https://api.mashvisor.com/v1.1/client/city/top-markets?state=FL', headers={'x-api-key':'5725594e-0d74-42f4-b436-1c822771152b'})"
   ]
  },
  {
   "cell_type": "code",
   "execution_count": 8,
   "id": "outer-tutorial",
   "metadata": {},
   "outputs": [
    {
     "data": {
      "text/plain": [
       "{'status': 'success',\n",
       " 'content': [{'city': 'Miami',\n",
       "   'state': 'FL',\n",
       "   'smart_location': 'Miami, FL',\n",
       "   'homes_for_sale': 3065},\n",
       "  {'city': 'Jacksonville',\n",
       "   'state': 'FL',\n",
       "   'smart_location': 'Jacksonville, FL',\n",
       "   'homes_for_sale': 1915},\n",
       "  {'city': 'Cape Coral',\n",
       "   'state': 'FL',\n",
       "   'smart_location': 'Cape Coral, FL',\n",
       "   'homes_for_sale': 1776},\n",
       "  {'city': 'Fort Myers',\n",
       "   'state': 'FL',\n",
       "   'smart_location': 'Fort Myers, FL',\n",
       "   'homes_for_sale': 1710},\n",
       "  {'city': 'NAPLES',\n",
       "   'state': 'FL',\n",
       "   'smart_location': 'NAPLES, FL',\n",
       "   'homes_for_sale': 1633}],\n",
       " 'message': 'Top markets list fetched successfully'}"
      ]
     },
     "execution_count": 8,
     "metadata": {},
     "output_type": "execute_result"
    }
   ],
   "source": [
    "r_fl.json()"
   ]
  },
  {
   "cell_type": "code",
   "execution_count": 11,
   "id": "controlled-windows",
   "metadata": {},
   "outputs": [],
   "source": [
    "r_ca = requests.get('https://api.mashvisor.com/v1.1/client/city/top-markets?state=CA', headers={'x-api-key':'5725594e-0d74-42f4-b436-1c822771152b'})"
   ]
  },
  {
   "cell_type": "code",
   "execution_count": 12,
   "id": "protecting-nurse",
   "metadata": {},
   "outputs": [
    {
     "data": {
      "text/plain": [
       "{'status': 'success',\n",
       " 'content': [{'city': 'Los Angeles',\n",
       "   'state': 'CA',\n",
       "   'smart_location': 'Los Angeles, CA',\n",
       "   'homes_for_sale': 3977},\n",
       "  {'city': 'San Diego',\n",
       "   'state': 'CA',\n",
       "   'smart_location': 'San Diego, CA',\n",
       "   'homes_for_sale': 1009},\n",
       "  {'city': 'Long Beach',\n",
       "   'state': 'CA',\n",
       "   'smart_location': 'Long Beach, CA',\n",
       "   'homes_for_sale': 864},\n",
       "  {'city': 'Irvine ',\n",
       "   'state': 'CA',\n",
       "   'smart_location': 'Irvine , CA',\n",
       "   'homes_for_sale': 608},\n",
       "  {'city': 'Riverside',\n",
       "   'state': 'CA',\n",
       "   'smart_location': 'Riverside, CA',\n",
       "   'homes_for_sale': 601}],\n",
       " 'message': 'Top markets list fetched successfully'}"
      ]
     },
     "execution_count": 12,
     "metadata": {},
     "output_type": "execute_result"
    }
   ],
   "source": [
    "r_ca.json()"
   ]
  },
  {
   "cell_type": "code",
   "execution_count": 14,
   "id": "interracial-piano",
   "metadata": {},
   "outputs": [
    {
     "data": {
      "text/plain": [
       "{'status': 'success',\n",
       " 'content': [{'city': 'Dallas',\n",
       "   'state': 'TX',\n",
       "   'smart_location': 'Dallas, TX',\n",
       "   'homes_for_sale': 2432},\n",
       "  {'city': 'Fort Worth',\n",
       "   'state': 'TX',\n",
       "   'smart_location': 'Fort Worth, TX',\n",
       "   'homes_for_sale': 2024},\n",
       "  {'city': 'San Antonio',\n",
       "   'state': 'TX',\n",
       "   'smart_location': 'San Antonio, TX',\n",
       "   'homes_for_sale': 1604},\n",
       "  {'city': 'Houston',\n",
       "   'state': 'TX',\n",
       "   'smart_location': 'Houston, TX',\n",
       "   'homes_for_sale': 1262},\n",
       "  {'city': 'Corpus Christi',\n",
       "   'state': 'TX',\n",
       "   'smart_location': 'Corpus Christi, TX',\n",
       "   'homes_for_sale': 1035}],\n",
       " 'message': 'Top markets list fetched successfully'}"
      ]
     },
     "execution_count": 14,
     "metadata": {},
     "output_type": "execute_result"
    }
   ],
   "source": [
    "r_tx = requests.get('https://api.mashvisor.com/v1.1/client/city/top-markets?state=TX', headers={'x-api-key':'5725594e-0d74-42f4-b436-1c822771152b'})\n",
    "r_tx.json()"
   ]
  },
  {
   "cell_type": "code",
   "execution_count": null,
   "id": "communist-newsletter",
   "metadata": {},
   "outputs": [],
   "source": []
  }
 ],
 "metadata": {
  "kernelspec": {
   "display_name": "Python 3",
   "language": "python",
   "name": "python3"
  },
  "language_info": {
   "codemirror_mode": {
    "name": "ipython",
    "version": 3
   },
   "file_extension": ".py",
   "mimetype": "text/x-python",
   "name": "python",
   "nbconvert_exporter": "python",
   "pygments_lexer": "ipython3",
   "version": "3.8.5"
  }
 },
 "nbformat": 4,
 "nbformat_minor": 5
}
