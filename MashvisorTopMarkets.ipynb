{
 "cells": [
  {
   "cell_type": "code",
   "execution_count": 36,
   "id": "antique-revision",
   "metadata": {},
   "outputs": [],
   "source": [
    "import requests\n",
    "r_fl = requests.get('https://api.mashvisor.com/v1.1/client/city/top-markets?state=FL', headers={'x-api-key':'5725594e-0d74-42f4-b436-1c822771152b'})"
   ]
  },
  {
   "cell_type": "code",
   "execution_count": 37,
   "id": "informal-helping",
   "metadata": {},
   "outputs": [
    {
     "data": {
      "text/plain": [
       "{'status': 'success',\n",
       " 'content': [{'city': 'Miami',\n",
       "   'state': 'FL',\n",
       "   'smart_location': 'Miami, FL',\n",
       "   'homes_for_sale': 3020},\n",
       "  {'city': 'Jacksonville',\n",
       "   'state': 'FL',\n",
       "   'smart_location': 'Jacksonville, FL',\n",
       "   'homes_for_sale': 2064},\n",
       "  {'city': 'Cape Coral',\n",
       "   'state': 'FL',\n",
       "   'smart_location': 'Cape Coral, FL',\n",
       "   'homes_for_sale': 1798},\n",
       "  {'city': 'Fort Myers',\n",
       "   'state': 'FL',\n",
       "   'smart_location': 'Fort Myers, FL',\n",
       "   'homes_for_sale': 1703},\n",
       "  {'city': 'NAPLES',\n",
       "   'state': 'FL',\n",
       "   'smart_location': 'NAPLES, FL',\n",
       "   'homes_for_sale': 1628}],\n",
       " 'message': 'Top markets list fetched successfully'}"
      ]
     },
     "execution_count": 37,
     "metadata": {},
     "output_type": "execute_result"
    }
   ],
   "source": [
    "r_fl.json()"
   ]
  },
  {
   "cell_type": "code",
   "execution_count": 38,
   "id": "innovative-poverty",
   "metadata": {},
   "outputs": [
    {
     "name": "stdout",
     "output_type": "stream",
     "text": [
      "b'{\"status\":\"success\",\"content\":[{\"city\":\"Miami\",\"state\":\"FL\",\"smart_location\":\"Miami, FL\",\"homes_for_sale\":3020},{\"city\":\"Jacksonville\",\"state\":\"FL\",\"smart_location\":\"Jacksonville, FL\",\"homes_for_sale\":2064},{\"city\":\"Cape Coral\",\"state\":\"FL\",\"smart_location\":\"Cape Coral, FL\",\"homes_for_sale\":1798},{\"city\":\"Fort Myers\",\"state\":\"FL\",\"smart_location\":\"Fort Myers, FL\",\"homes_for_sale\":1703},{\"city\":\"NAPLES\",\"state\":\"FL\",\"smart_location\":\"NAPLES, FL\",\"homes_for_sale\":1628}],\"message\":\"Top markets list fetched successfully\"}'\n"
     ]
    }
   ],
   "source": [
    "real_fl = r_fl.content\n",
    "print(real_fl)"
   ]
  },
  {
   "cell_type": "code",
   "execution_count": 45,
   "id": "descending-florida",
   "metadata": {},
   "outputs": [
    {
     "data": {
      "text/plain": [
       "{'status': 'success',\n",
       " 'content': {'median_price': 270000,\n",
       "  'sqft': 1619.56,\n",
       "  'investment_properties': 630,\n",
       "  'airbnb_properties': 3090,\n",
       "  'traditional_properties': 2679,\n",
       "  'occupancy': 56,\n",
       "  'traditional_coc': 2.97113,\n",
       "  'airbnb_coc': 1.04361,\n",
       "  'traditional_rental': 1483.35,\n",
       "  'airbnb_rental': 1489.81,\n",
       "  'airbnb_rental_rates': {'zeroBedRoomHomeValue': 1075.15,\n",
       "   'oneBedRoomHomeValue': 1124.85,\n",
       "   'twoBedRoomsHomeValue': 1290.25,\n",
       "   'threeBedRoomsHomeValue': 1994.75,\n",
       "   'fourBedRoomsHomeValue': 3278.09},\n",
       "  'traditional_rental_rates': {'zeroBedRoomHomeValue': 1095.74,\n",
       "   'oneBedRoomHomeValue': 1064.74,\n",
       "   'twoBedRoomsHomeValue': 1272.7,\n",
       "   'threeBedRoomsHomeValue': 1605.85,\n",
       "   'fourBedRoomsHomeValue': 2046.75}},\n",
       " 'message': 'City Overview fetched successfully'}"
      ]
     },
     "execution_count": 45,
     "metadata": {},
     "output_type": "execute_result"
    }
   ],
   "source": [
    "r_orl_fl = requests.get(\"https://api.mashvisor.com/v1.1/client/city/investment/FL/Orlando\", headers={'x-api-key':'5725594e-0d74-42f4-b436-1c822771152b'})\n",
    "r_orl_fl.json()"
   ]
  },
  {
   "cell_type": "code",
   "execution_count": 24,
   "id": "wrong-worship",
   "metadata": {},
   "outputs": [
    {
     "data": {
      "text/plain": [
       "{'status': 'success',\n",
       " 'content': {'median_price': 450000,\n",
       "  'sqft': 1502.26,\n",
       "  'investment_properties': 3030,\n",
       "  'airbnb_properties': 2294,\n",
       "  'traditional_properties': 10461,\n",
       "  'occupancy': 45,\n",
       "  'traditional_coc': 1.96267,\n",
       "  'airbnb_coc': -0.876329,\n",
       "  'traditional_rental': 2173.88,\n",
       "  'airbnb_rental': 1870.62,\n",
       "  'airbnb_rental_rates': {'zeroBedRoomHomeValue': 1080.31,\n",
       "   'oneBedRoomHomeValue': 1021.82,\n",
       "   'twoBedRoomsHomeValue': 1248.89,\n",
       "   'threeBedRoomsHomeValue': 2340.19,\n",
       "   'fourBedRoomsHomeValue': 6101.37},\n",
       "  'traditional_rental_rates': {'zeroBedRoomHomeValue': 1169.22,\n",
       "   'oneBedRoomHomeValue': 1442.88,\n",
       "   'twoBedRoomsHomeValue': 2102.83,\n",
       "   'threeBedRoomsHomeValue': 3041.6,\n",
       "   'fourBedRoomsHomeValue': 5716.15}},\n",
       " 'message': 'City Overview fetched successfully'}"
      ]
     },
     "execution_count": 24,
     "metadata": {},
     "output_type": "execute_result"
    }
   ],
   "source": [
    "r_mia_fl = requests.get(\"https://api.mashvisor.com/v1.1/client/city/investment/FL/Miami\", headers={'x-api-key':'5725594e-0d74-42f4-b436-1c822771152b'}) \n",
    "r_mia_fl.json()"
   ]
  },
  {
   "cell_type": "code",
   "execution_count": 46,
   "id": "environmental-massage",
   "metadata": {},
   "outputs": [
    {
     "data": {
      "text/plain": [
       "{'status': 'success',\n",
       " 'content': {'median_price': 335000,\n",
       "  'sqft': 1793.85,\n",
       "  'investment_properties': 501,\n",
       "  'airbnb_properties': 2571,\n",
       "  'traditional_properties': 1980,\n",
       "  'occupancy': 53,\n",
       "  'traditional_coc': 3.03761,\n",
       "  'airbnb_coc': 2.20986,\n",
       "  'traditional_rental': 1660,\n",
       "  'airbnb_rental': 2158.14,\n",
       "  'airbnb_rental_rates': {'zeroBedRoomHomeValue': 982.858,\n",
       "   'oneBedRoomHomeValue': 1156.4,\n",
       "   'twoBedRoomsHomeValue': 1402.08,\n",
       "   'threeBedRoomsHomeValue': 2461.99,\n",
       "   'fourBedRoomsHomeValue': 3561.42},\n",
       "  'traditional_rental_rates': {'zeroBedRoomHomeValue': 1066.56,\n",
       "   'oneBedRoomHomeValue': 1052.55,\n",
       "   'twoBedRoomsHomeValue': 1314.98,\n",
       "   'threeBedRoomsHomeValue': 1933.35,\n",
       "   'fourBedRoomsHomeValue': 2646.45}},\n",
       " 'message': 'City Overview fetched successfully'}"
      ]
     },
     "execution_count": 46,
     "metadata": {},
     "output_type": "execute_result"
    }
   ],
   "source": [
    "r_tpa_fl = requests.get(\"https://api.mashvisor.com/v1.1/client/city/investment/FL/Tampa\", headers={'x-api-key':'5725594e-0d74-42f4-b436-1c822771152b'}) \n",
    "r_tpa_fl.json()"
   ]
  },
  {
   "cell_type": "code",
   "execution_count": 30,
   "id": "pharmaceutical-peninsula",
   "metadata": {},
   "outputs": [
    {
     "data": {
      "text/plain": [
       "{'status': 'success',\n",
       " 'content': {'input': {'page': 1, 'items': 5, 'state': 'FL'},\n",
       "  'total_page_results': 5,\n",
       "  'cities': [{'city': 'Saint Petersburg',\n",
       "    'state': 'FL',\n",
       "    'occupancy': 55.94756435,\n",
       "    'total_listing': 6281,\n",
       "    'occ_listing': 351406.65166351},\n",
       "   {'city': 'Fort Lauderdale',\n",
       "    'state': 'FL',\n",
       "    'occupancy': 55.09871429,\n",
       "    'total_listing': 5129,\n",
       "    'occ_listing': 282601.30556777},\n",
       "   {'city': 'Sarasota',\n",
       "    'state': 'FL',\n",
       "    'occupancy': 51.96788182,\n",
       "    'total_listing': 3967,\n",
       "    'occ_listing': 206156.58717201},\n",
       "   {'city': 'Orlando',\n",
       "    'state': 'FL',\n",
       "    'occupancy': 54.22032832,\n",
       "    'total_listing': 3090,\n",
       "    'occ_listing': 167540.81450262},\n",
       "   {'city': 'Tampa',\n",
       "    'state': 'FL',\n",
       "    'occupancy': 53.9045125,\n",
       "    'total_listing': 2843,\n",
       "    'occ_listing': 153250.5290375}]}}"
      ]
     },
     "execution_count": 30,
     "metadata": {},
     "output_type": "execute_result"
    }
   ],
   "source": [
    "r_fl_trends = requests.get(\"https://api.mashvisor.com/v1.1/client/trends/cities?state=FL\", headers={'x-api-key':'5725594e-0d74-42f4-b436-1c822771152b'})\n",
    "r_fl_trends.json()"
   ]
  },
  {
   "cell_type": "code",
   "execution_count": null,
   "id": "narrative-bangladesh",
   "metadata": {},
   "outputs": [],
   "source": []
  },
  {
   "cell_type": "code",
   "execution_count": null,
   "id": "infrared-explanation",
   "metadata": {},
   "outputs": [],
   "source": []
  }
 ],
 "metadata": {
  "kernelspec": {
   "display_name": "Python 3",
   "language": "python",
   "name": "python3"
  },
  "language_info": {
   "codemirror_mode": {
    "name": "ipython",
    "version": 3
   },
   "file_extension": ".py",
   "mimetype": "text/x-python",
   "name": "python",
   "nbconvert_exporter": "python",
   "pygments_lexer": "ipython3",
   "version": "3.8.5"
  }
 },
 "nbformat": 4,
 "nbformat_minor": 5
}
